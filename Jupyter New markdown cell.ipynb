{
  "metadata": {
    "kernelspec": {
      "name": "python",
      "display_name": "Python (Pyodide)",
      "language": "python"
    },
    "language_info": {
      "codemirror_mode": {
        "name": "python",
        "version": 3
      },
      "file_extension": ".py",
      "mimetype": "text/x-python",
      "name": "python",
      "nbconvert_exporter": "python",
      "pygments_lexer": "ipython3",
      "version": "3.8"
    }
  },
  "nbformat_minor": 5,
  "nbformat": 4,
  "cells": [
    {
      "id": "a825bd99-b50f-4f42-aeea-660c73fef9e3",
      "cell_type": "markdown",
      "source": "# My Data Science Notebook",
      "metadata": {}
    },
    {
      "id": "7c9871e4-a49e-42ec-8bbd-859dace8a8db",
      "cell_type": "markdown",
      "source": "This notebook contains examples of various data science tasks and tools.",
      "metadata": {}
    },
    {
      "id": "0169da09-cad1-4a30-a436-5a338522d174",
      "cell_type": "markdown",
      "source": "Some of Data Science Languages\n1. Python\n2. R\n3. SQL\n4. Julia\n5. Java",
      "metadata": {}
    },
    {
      "id": "f71cf32c-a11a-483d-8d3b-6e9d7a99f14e",
      "cell_type": "markdown",
      "source": "Some of the used Data Science Libraries\n1. Pandas\n2. NumPy\n3. Matplotlib\n4. Scikit-learn\n5. TensorFlow\n6. Keras",
      "metadata": {}
    },
    {
      "id": "1235b9f2-5f01-4b11-8335-402fce30031a",
      "cell_type": "markdown",
      "source": " Data Science Tools                            \n1. Jupyter  - Interactive computing environment\n2. RStudio  - IDE for R \n3. Apache Hadoop  - Framework for distributed storage \n4. TensorFlow - Library for machine learning ",
      "metadata": {}
    },
    {
      "id": "71b7e916-64ab-4862-a112-e24a5ec957a7",
      "cell_type": "markdown",
      "source": "Below are examples of simple arithmetic operations.",
      "metadata": {}
    },
    {
      "id": "454fde44-2795-4598-8f86-a293465fbf0f",
      "cell_type": "code",
      "source": "# This is a simple Multiplication and addition\n(3 * 4) + 5",
      "metadata": {
        "trusted": true
      },
      "outputs": [
        {
          "execution_count": 3,
          "output_type": "execute_result",
          "data": {
            "text/plain": "17"
          },
          "metadata": {}
        }
      ],
      "execution_count": 3
    },
    {
      "id": "712a4605-58a9-4158-bfcf-d8b429d74191",
      "cell_type": "code",
      "source": "# Conversion of 150 minutes to hours\n150 / 60",
      "metadata": {
        "trusted": true
      },
      "outputs": [
        {
          "execution_count": 4,
          "output_type": "execute_result",
          "data": {
            "text/plain": "2.5"
          },
          "metadata": {}
        }
      ],
      "execution_count": 4
    },
    {
      "id": "6fd59c66-6110-4bf9-a392-8414c426e703",
      "cell_type": "markdown",
      "source": "### Objectives\n- Learn basic Markdown syntax\n- Perform arithmetic operations in Python\n- Convert time units using Python",
      "metadata": {}
    },
    {
      "id": "b61294ab-33bd-44c1-ba7d-ce632203f255",
      "cell_type": "markdown",
      "source": "## Author\nEmmanuel Godwin",
      "metadata": {}
    }
  ]
}