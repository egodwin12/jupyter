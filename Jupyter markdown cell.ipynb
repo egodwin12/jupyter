{
  "metadata": {
    "kernelspec": {
      "name": "python",
      "display_name": "Python (Pyodide)",
      "language": "python"
    },
    "language_info": {
      "codemirror_mode": {
        "name": "python",
        "version": 3
      },
      "file_extension": ".py",
      "mimetype": "text/x-python",
      "name": "python",
      "nbconvert_exporter": "python",
      "pygments_lexer": "ipython3",
      "version": "3.8"
    }
  },
  "nbformat_minor": 5,
  "nbformat": 4,
  "cells": [
    {
      "id": "04342b85-6b90-4b56-af8d-d1f73de5297d",
      "cell_type": "code",
      "source": "## My Data Science Notebook",
      "metadata": {
        "trusted": true
      },
      "outputs": [],
      "execution_count": null
    },
    {
      "id": "38c077b8-4dd4-495e-b046-d702080ae1f9",
      "cell_type": "code",
      "source": "## Introduction\n# This notebook contains examples of various data science tasks and tools.",
      "metadata": {
        "trusted": true
      },
      "outputs": [],
      "execution_count": null
    },
    {
      "id": "02006050-f15f-49ef-bd09-3c6fa88b3c63",
      "cell_type": "code",
      "source": "## Data Science Languages\n# 1. Python\n# 2. R\n# 3. Julia\n# 4. SQL",
      "metadata": {
        "trusted": true
      },
      "outputs": [],
      "execution_count": null
    },
    {
      "id": "b459e905-3915-4bb5-bfce-9d4ec84dee38",
      "cell_type": "code",
      "source": "## Data Science Libraries\n# 1. Pandas\n# 2. NumPy\n# 3. Matplotlib\n# 4. Scikit-learn\n# 5. TensorFlow\n# 6. Keras",
      "metadata": {
        "trusted": true
      },
      "outputs": [],
      "execution_count": null
    },
    {
      "id": "4d4ead0c-87d4-44b5-a96c-6defa828c785",
      "cell_type": "code",
      "source": "## Data Science Tools                            \n# 1. Jupyter  - Interactive computing environment\n# 2. RStudio  - IDE for R \n# 3. Apache Hadoop  - Framework for distributed storage \n# 4. TensorFlow - Library for machine learning ",
      "metadata": {
        "trusted": true
      },
      "outputs": [],
      "execution_count": null
    },
    {
      "id": "4bd517ce-33b9-453a-a63c-eb27d4212093",
      "cell_type": "code",
      "source": "## Arithmetic Expression Examples\n# Below are examples of simple arithmetic operations.",
      "metadata": {
        "trusted": true
      },
      "outputs": [],
      "execution_count": null
    },
    {
      "id": "454fde44-2795-4598-8f86-a293465fbf0f",
      "cell_type": "code",
      "source": "## Multiplication and addition\nresult = (3 * 4) + 5\nresult",
      "metadata": {
        "trusted": true
      },
      "outputs": [],
      "execution_count": null
    },
    {
      "id": "712a4605-58a9-4158-bfcf-d8b429d74191",
      "cell_type": "code",
      "source": "## Conversion of minutes to hours\nminutes = 150\nhours = minutes / 60\nhours",
      "metadata": {
        "trusted": true
      },
      "outputs": [],
      "execution_count": null
    },
    {
      "id": "8482b9a6-ac88-4bad-abc9-b61ae32b8281",
      "cell_type": "code",
      "source": "## Objectives\n# 1. Learn basic Markdown syntax\n# 2. Perform arithmetic operations in Python\n# 3. Convert time units using Python",
      "metadata": {
        "trusted": true
      },
      "outputs": [],
      "execution_count": null
    },
    {
      "id": "8c8a4aa7-f41c-41c6-839b-92555869757b",
      "cell_type": "code",
      "source": "## Author\n# Emmanuel Godwin",
      "metadata": {
        "trusted": true
      },
      "outputs": [],
      "execution_count": null
    }
  ]
}